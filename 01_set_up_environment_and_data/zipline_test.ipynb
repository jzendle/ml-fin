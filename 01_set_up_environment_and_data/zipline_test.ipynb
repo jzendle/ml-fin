{
 "cells": [
  {
   "cell_type": "code",
   "execution_count": 2,
   "id": "1f09afe6",
   "metadata": {},
   "outputs": [],
   "source": [
    "import pandas as pd"
   ]
  },
  {
   "cell_type": "code",
   "execution_count": 3,
   "id": "d7971c87",
   "metadata": {},
   "outputs": [],
   "source": [
    "df = pd.read_csv('../data/us_stock_prices.csv')"
   ]
  },
  {
   "cell_type": "code",
   "execution_count": 4,
   "id": "1977495a",
   "metadata": {},
   "outputs": [
    {
     "name": "stdout",
     "output_type": "stream",
     "text": [
      "<class 'pandas.core.frame.DataFrame'>\n",
      "RangeIndex: 15389314 entries, 0 to 15389313\n",
      "Data columns (total 14 columns):\n",
      " #   Column       Dtype  \n",
      "---  ------       -----  \n",
      " 0   ticker       object \n",
      " 1   date         object \n",
      " 2   open         float64\n",
      " 3   high         float64\n",
      " 4   low          float64\n",
      " 5   close        float64\n",
      " 6   volume       float64\n",
      " 7   ex-dividend  float64\n",
      " 8   split_ratio  float64\n",
      " 9   adj_open     float64\n",
      " 10  adj_high     float64\n",
      " 11  adj_low      float64\n",
      " 12  adj_close    float64\n",
      " 13  adj_volume   float64\n",
      "dtypes: float64(12), object(2)\n",
      "memory usage: 1.6+ GB\n"
     ]
    }
   ],
   "source": [
    "df.info()"
   ]
  },
  {
   "cell_type": "code",
   "execution_count": 7,
   "id": "e04dfd5e",
   "metadata": {},
   "outputs": [],
   "source": [
    "df['date']= pd.to_datetime(df['date'])\n"
   ]
  },
  {
   "cell_type": "code",
   "execution_count": 8,
   "id": "78da812e",
   "metadata": {},
   "outputs": [
    {
     "name": "stdout",
     "output_type": "stream",
     "text": [
      "<class 'pandas.core.frame.DataFrame'>\n",
      "RangeIndex: 15389314 entries, 0 to 15389313\n",
      "Data columns (total 14 columns):\n",
      " #   Column       Dtype         \n",
      "---  ------       -----         \n",
      " 0   ticker       object        \n",
      " 1   date         datetime64[ns]\n",
      " 2   open         float64       \n",
      " 3   high         float64       \n",
      " 4   low          float64       \n",
      " 5   close        float64       \n",
      " 6   volume       float64       \n",
      " 7   ex-dividend  float64       \n",
      " 8   split_ratio  float64       \n",
      " 9   adj_open     float64       \n",
      " 10  adj_high     float64       \n",
      " 11  adj_low      float64       \n",
      " 12  adj_close    float64       \n",
      " 13  adj_volume   float64       \n",
      "dtypes: datetime64[ns](1), float64(12), object(1)\n",
      "memory usage: 1.6+ GB\n"
     ]
    }
   ],
   "source": [
    "df.info()\n"
   ]
  },
  {
   "cell_type": "code",
   "execution_count": 9,
   "id": "36e6b2bd",
   "metadata": {},
   "outputs": [],
   "source": [
    "import datetime\n",
    "df_gt_date = df[df[\"date\"] > datetime.datetime(1999, 12, 31)]"
   ]
  },
  {
   "cell_type": "code",
   "execution_count": 10,
   "id": "076a4b06",
   "metadata": {},
   "outputs": [
    {
     "data": {
      "text/html": [
       "<div>\n",
       "<style scoped>\n",
       "    .dataframe tbody tr th:only-of-type {\n",
       "        vertical-align: middle;\n",
       "    }\n",
       "\n",
       "    .dataframe tbody tr th {\n",
       "        vertical-align: top;\n",
       "    }\n",
       "\n",
       "    .dataframe thead th {\n",
       "        text-align: right;\n",
       "    }\n",
       "</style>\n",
       "<table border=\"1\" class=\"dataframe\">\n",
       "  <thead>\n",
       "    <tr style=\"text-align: right;\">\n",
       "      <th></th>\n",
       "      <th>ticker</th>\n",
       "      <th>date</th>\n",
       "      <th>open</th>\n",
       "      <th>high</th>\n",
       "      <th>low</th>\n",
       "      <th>close</th>\n",
       "      <th>volume</th>\n",
       "      <th>ex-dividend</th>\n",
       "      <th>split_ratio</th>\n",
       "      <th>adj_open</th>\n",
       "      <th>adj_high</th>\n",
       "      <th>adj_low</th>\n",
       "      <th>adj_close</th>\n",
       "      <th>adj_volume</th>\n",
       "    </tr>\n",
       "  </thead>\n",
       "  <tbody>\n",
       "    <tr>\n",
       "      <th>30</th>\n",
       "      <td>A</td>\n",
       "      <td>2000-01-03</td>\n",
       "      <td>78.75</td>\n",
       "      <td>78.94</td>\n",
       "      <td>67.38</td>\n",
       "      <td>72.00</td>\n",
       "      <td>3343600.0</td>\n",
       "      <td>0.0</td>\n",
       "      <td>1.0</td>\n",
       "      <td>53.726454</td>\n",
       "      <td>53.856080</td>\n",
       "      <td>45.969377</td>\n",
       "      <td>49.121329</td>\n",
       "      <td>3343600.0</td>\n",
       "    </tr>\n",
       "    <tr>\n",
       "      <th>31</th>\n",
       "      <td>A</td>\n",
       "      <td>2000-01-04</td>\n",
       "      <td>68.13</td>\n",
       "      <td>68.88</td>\n",
       "      <td>64.75</td>\n",
       "      <td>66.50</td>\n",
       "      <td>3408500.0</td>\n",
       "      <td>0.0</td>\n",
       "      <td>1.0</td>\n",
       "      <td>46.481058</td>\n",
       "      <td>46.992738</td>\n",
       "      <td>44.175084</td>\n",
       "      <td>45.369006</td>\n",
       "      <td>3408500.0</td>\n",
       "    </tr>\n",
       "    <tr>\n",
       "      <th>32</th>\n",
       "      <td>A</td>\n",
       "      <td>2000-01-05</td>\n",
       "      <td>66.25</td>\n",
       "      <td>66.31</td>\n",
       "      <td>61.31</td>\n",
       "      <td>61.56</td>\n",
       "      <td>4119200.0</td>\n",
       "      <td>0.0</td>\n",
       "      <td>1.0</td>\n",
       "      <td>45.198445</td>\n",
       "      <td>45.239380</td>\n",
       "      <td>41.828176</td>\n",
       "      <td>41.998737</td>\n",
       "      <td>4119200.0</td>\n",
       "    </tr>\n",
       "    <tr>\n",
       "      <th>33</th>\n",
       "      <td>A</td>\n",
       "      <td>2000-01-06</td>\n",
       "      <td>61.63</td>\n",
       "      <td>62.00</td>\n",
       "      <td>58.13</td>\n",
       "      <td>60.00</td>\n",
       "      <td>1812900.0</td>\n",
       "      <td>0.0</td>\n",
       "      <td>1.0</td>\n",
       "      <td>42.046493</td>\n",
       "      <td>42.298923</td>\n",
       "      <td>39.658651</td>\n",
       "      <td>40.934441</td>\n",
       "      <td>1812900.0</td>\n",
       "    </tr>\n",
       "    <tr>\n",
       "      <th>34</th>\n",
       "      <td>A</td>\n",
       "      <td>2000-01-07</td>\n",
       "      <td>59.06</td>\n",
       "      <td>65.94</td>\n",
       "      <td>59.00</td>\n",
       "      <td>65.00</td>\n",
       "      <td>2016900.0</td>\n",
       "      <td>0.0</td>\n",
       "      <td>1.0</td>\n",
       "      <td>40.293135</td>\n",
       "      <td>44.986951</td>\n",
       "      <td>40.252200</td>\n",
       "      <td>44.345645</td>\n",
       "      <td>2016900.0</td>\n",
       "    </tr>\n",
       "  </tbody>\n",
       "</table>\n",
       "</div>"
      ],
      "text/plain": [
       "   ticker       date   open   high    low  close     volume  ex-dividend  \\\n",
       "30      A 2000-01-03  78.75  78.94  67.38  72.00  3343600.0          0.0   \n",
       "31      A 2000-01-04  68.13  68.88  64.75  66.50  3408500.0          0.0   \n",
       "32      A 2000-01-05  66.25  66.31  61.31  61.56  4119200.0          0.0   \n",
       "33      A 2000-01-06  61.63  62.00  58.13  60.00  1812900.0          0.0   \n",
       "34      A 2000-01-07  59.06  65.94  59.00  65.00  2016900.0          0.0   \n",
       "\n",
       "    split_ratio   adj_open   adj_high    adj_low  adj_close  adj_volume  \n",
       "30          1.0  53.726454  53.856080  45.969377  49.121329   3343600.0  \n",
       "31          1.0  46.481058  46.992738  44.175084  45.369006   3408500.0  \n",
       "32          1.0  45.198445  45.239380  41.828176  41.998737   4119200.0  \n",
       "33          1.0  42.046493  42.298923  39.658651  40.934441   1812900.0  \n",
       "34          1.0  40.293135  44.986951  40.252200  44.345645   2016900.0  "
      ]
     },
     "execution_count": 10,
     "metadata": {},
     "output_type": "execute_result"
    }
   ],
   "source": [
    "df_gt_date.head()"
   ]
  },
  {
   "cell_type": "code",
   "execution_count": 11,
   "id": "37cd596f",
   "metadata": {},
   "outputs": [
    {
     "name": "stdout",
     "output_type": "stream",
     "text": [
      "<class 'pandas.core.frame.DataFrame'>\n",
      "Int64Index: 11343920 entries, 30 to 15389313\n",
      "Data columns (total 14 columns):\n",
      " #   Column       Dtype         \n",
      "---  ------       -----         \n",
      " 0   ticker       object        \n",
      " 1   date         datetime64[ns]\n",
      " 2   open         float64       \n",
      " 3   high         float64       \n",
      " 4   low          float64       \n",
      " 5   close        float64       \n",
      " 6   volume       float64       \n",
      " 7   ex-dividend  float64       \n",
      " 8   split_ratio  float64       \n",
      " 9   adj_open     float64       \n",
      " 10  adj_high     float64       \n",
      " 11  adj_low      float64       \n",
      " 12  adj_close    float64       \n",
      " 13  adj_volume   float64       \n",
      "dtypes: datetime64[ns](1), float64(12), object(1)\n",
      "memory usage: 1.3+ GB\n"
     ]
    }
   ],
   "source": [
    "df_gt_date.info()"
   ]
  },
  {
   "cell_type": "code",
   "execution_count": 14,
   "id": "da3bad21",
   "metadata": {},
   "outputs": [
    {
     "name": "stdout",
     "output_type": "stream",
     "text": [
      "<class 'pandas.core.frame.DataFrame'>\n",
      "Int64Index: 11343920 entries, 30 to 15389313\n",
      "Data columns (total 7 columns):\n",
      " #   Column      Dtype         \n",
      "---  ------      -----         \n",
      " 0   ticker      object        \n",
      " 1   date        datetime64[ns]\n",
      " 2   adj_open    float64       \n",
      " 3   adj_high    float64       \n",
      " 4   adj_low     float64       \n",
      " 5   adj_close   float64       \n",
      " 6   adj_volume  float64       \n",
      "dtypes: datetime64[ns](1), float64(5), object(1)\n",
      "memory usage: 950.4+ MB\n"
     ]
    }
   ],
   "source": [
    "cols = [2,3,4,5,6,7,8]\n",
    "df_cols_drop= df_gt_date.drop(df_gt_date.columns[cols],axis=1)\n",
    "df_cols_drop.info()"
   ]
  },
  {
   "cell_type": "code",
   "execution_count": 15,
   "id": "bd1d04a4",
   "metadata": {},
   "outputs": [
    {
     "name": "stdout",
     "output_type": "stream",
     "text": [
      "<class 'pandas.core.frame.DataFrame'>\n",
      "Int64Index: 11343920 entries, 30 to 15389313\n",
      "Data columns (total 7 columns):\n",
      " #   Column  Dtype         \n",
      "---  ------  -----         \n",
      " 0   ticker  object        \n",
      " 1   date    datetime64[ns]\n",
      " 2   open    float64       \n",
      " 3   high    float64       \n",
      " 4   low     float64       \n",
      " 5   close   float64       \n",
      " 6   volume  float64       \n",
      "dtypes: datetime64[ns](1), float64(5), object(1)\n",
      "memory usage: 950.4+ MB\n"
     ]
    }
   ],
   "source": [
    "df_renamed = df_cols_drop.rename(columns = {'adj_open' : 'open','adj_low' : 'low','adj_high' : 'high'\n",
    "                     ,'adj_close':'close','adj_volume' : 'volume'})\n",
    "\n",
    "df_renamed.info()"
   ]
  },
  {
   "cell_type": "code",
   "execution_count": 16,
   "id": "d6e828a3",
   "metadata": {},
   "outputs": [],
   "source": [
    "df_indexed = df_renamed.set_index(['ticker', 'date'])"
   ]
  },
  {
   "cell_type": "code",
   "execution_count": 17,
   "id": "ac6be4d0",
   "metadata": {},
   "outputs": [
    {
     "name": "stdout",
     "output_type": "stream",
     "text": [
      "<class 'pandas.core.frame.DataFrame'>\n",
      "MultiIndex: 11343920 entries, ('A', Timestamp('2000-01-03 00:00:00')) to ('ZUMZ', Timestamp('2018-03-27 00:00:00'))\n",
      "Data columns (total 5 columns):\n",
      " #   Column  Dtype  \n",
      "---  ------  -----  \n",
      " 0   open    float64\n",
      " 1   high    float64\n",
      " 2   low     float64\n",
      " 3   close   float64\n",
      " 4   volume  float64\n",
      "dtypes: float64(5)\n",
      "memory usage: 476.3+ MB\n"
     ]
    }
   ],
   "source": [
    "df_indexed.info()"
   ]
  },
  {
   "cell_type": "code",
   "execution_count": 20,
   "id": "a08b8e08",
   "metadata": {},
   "outputs": [],
   "source": [
    "df_indexed.to_hdf('../data/stock_prices.h5',key='stock_prices')  \n"
   ]
  }
 ],
 "metadata": {
  "kernelspec": {
   "display_name": "Python 3 (ipykernel)",
   "language": "python",
   "name": "python3"
  },
  "language_info": {
   "codemirror_mode": {
    "name": "ipython",
    "version": 3
   },
   "file_extension": ".py",
   "mimetype": "text/x-python",
   "name": "python",
   "nbconvert_exporter": "python",
   "pygments_lexer": "ipython3",
   "version": "3.8.12"
  }
 },
 "nbformat": 4,
 "nbformat_minor": 5
}
